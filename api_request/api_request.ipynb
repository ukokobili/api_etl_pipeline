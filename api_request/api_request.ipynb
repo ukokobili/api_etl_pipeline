{
 "cells": [
  {
   "cell_type": "code",
   "execution_count": 1,
   "id": "aea5e57f",
   "metadata": {},
   "outputs": [],
   "source": [
    "# import request library: for making request to the API\n",
    "import requests as rq\n",
    "import pprint as pp\n",
    "import pandas as pd\n",
    "import hashlib # working of MD5 (byte - byte)"
   ]
  },
  {
   "cell_type": "code",
   "execution_count": 2,
   "id": "c674f52d",
   "metadata": {},
   "outputs": [],
   "source": [
    "api_key = \n",
    "private_key = "
   ]
  },
  {
   "cell_type": "code",
   "execution_count": 3,
   "id": "f9623781",
   "metadata": {},
   "outputs": [],
   "source": [
    "ts = '1000'"
   ]
  },
  {
   "cell_type": "code",
   "execution_count": 4,
   "id": "e4f139c9",
   "metadata": {},
   "outputs": [],
   "source": [
    "# http://gateway.marvel.com/v1/public/comics?ts=1&apikey=1234&hash=ffd275c5130566a2916217b101f26150 \n",
    "# (the hash value is the md5 digest of 1abcd1234)\n",
    "baseurl = 'http://gateway.marvel.com'"
   ]
  },
  {
   "cell_type": "code",
   "execution_count": 5,
   "id": "bb7e2bb1",
   "metadata": {},
   "outputs": [],
   "source": [
    "endpoint = '/v1/public/characters'\n",
    "comics_endpoint = '/v1/public/comics'\n",
    "creators_endpoint = '/v1/public/creators'\n",
    "events_endpoint = '/v1/public/events'\n",
    "series_endpoint = '/v1/public/series'\n",
    "stories_endpoint = '/v1/public/stories'"
   ]
  },
  {
   "cell_type": "code",
   "execution_count": 6,
   "id": "2752f9ca",
   "metadata": {},
   "outputs": [
    {
     "data": {
      "text/plain": [
       "'9d5cbea8dc1ba03439bb4599e0c64cb5'"
      ]
     },
     "execution_count": 6,
     "metadata": {},
     "output_type": "execute_result"
    }
   ],
   "source": [
    "# https://www.pythonpool.com/python-md5/\n",
    "result = hashlib.md5((ts+private_key+api_key).encode()) \n",
    "hash_key = result.hexdigest() #'9d5cbea8dc1ba03439bb4599e0c64cb5'\n",
    "hash_key"
   ]
  },
  {
   "cell_type": "code",
   "execution_count": 12,
   "id": "061d54f5",
   "metadata": {},
   "outputs": [],
   "source": [
    "# make request to the API with the GET\n",
    "r = rq.get(f'{baseurl}{comics_endpoint}?ts={ts}&apikey={api_key}&hash={hash_key}')"
   ]
  },
  {
   "cell_type": "code",
   "execution_count": 13,
   "id": "2c0d5b38",
   "metadata": {},
   "outputs": [
    {
     "name": "stdout",
     "output_type": "stream",
     "text": [
      "<Response [200]>\n"
     ]
    }
   ],
   "source": [
    "# print output\n",
    "print(r)"
   ]
  },
  {
   "cell_type": "code",
   "execution_count": 14,
   "id": "374c503d",
   "metadata": {},
   "outputs": [],
   "source": [
    "# assign the output into a new variable\n",
    "data = r.json()"
   ]
  },
  {
   "cell_type": "code",
   "execution_count": 15,
   "id": "2b7c4129",
   "metadata": {},
   "outputs": [],
   "source": [
    "# # print the library to a more readable format\n",
    "# pp.pprint(data)"
   ]
  },
  {
   "cell_type": "code",
   "execution_count": 16,
   "id": "3fce07c8",
   "metadata": {},
   "outputs": [],
   "source": [
    "response = data['data']"
   ]
  },
  {
   "cell_type": "code",
   "execution_count": 21,
   "id": "41a1ab3f",
   "metadata": {},
   "outputs": [],
   "source": [
    "def xter_data(response):\n",
    "    xter_list = []\n",
    "\n",
    "    for x in response['results']:\n",
    "        xter = {\n",
    "            'id': x['id'],\n",
    "            'name': x['name'],\n",
    "            'description': x['description'],\n",
    "            'modified_date': x['modified'],\n",
    "            'featured_comics': x['comics']['available'],\n",
    "            'featured_series': x['series']['available'],\n",
    "            'featured_stories': x['stories']['available'],\n",
    "            'featured_events': x['events']['available']\n",
    "        }\n",
    "        xter_list.append(xter)\n",
    "    return  xter_list\n",
    "#xter_data(response)"
   ]
  },
  {
   "cell_type": "code",
   "execution_count": 87,
   "id": "4a1e8e37",
   "metadata": {},
   "outputs": [],
   "source": [
    "def comic_data(response):\n",
    "    comic_list = []\n",
    "\n",
    "    for x in response['results']:\n",
    "        comics = {\n",
    "            'id': x['id'],\n",
    "            'title': x['title'],\n",
    "            'description': x['description'],\n",
    "            'modified_date': x['modified'],\n",
    "            'isbn' : x['isbn'],\n",
    "            'number_of_pages': x['pageCount'],\n",
    "            'price': x['prices'][0]['price']\n",
    "        }\n",
    "        comic_list.append(comics)\n",
    "    return  comic_list\n",
    "#comic_data(response)"
   ]
  },
  {
   "cell_type": "code",
   "execution_count": null,
   "id": "e3481f7a",
   "metadata": {},
   "outputs": [],
   "source": [
    "def creators_data(response):\n",
    "creators_list = []\n",
    "\n",
    "    for x in response['results']:\n",
    "        creators = {\n",
    "            'id': x['id'],\n",
    "            'first_name': x['firstName'],\n",
    "            'last_name': x['lastName'],\n",
    "            'suffix': x['suffix'],\n",
    "            'modified_date': x['modified']\n",
    "        }\n",
    "        creators_list.append(creators)\n",
    "    return  creators_list\n",
    "#creators_data(response)"
   ]
  },
  {
   "cell_type": "code",
   "execution_count": 22,
   "id": "49d7fd6e",
   "metadata": {},
   "outputs": [],
   "source": [
    "def events_data(response):\n",
    "    events_list = []\n",
    "\n",
    "    for x in response['results']:\n",
    "        events = {\n",
    "            'id': x['id'],\n",
    "            'title': x['title'],\n",
    "            'description': x['description'],\n",
    "            'modified_date': x['modified'],\n",
    "            'start_date' : x['start'],\n",
    "            'end_date': x['end']\n",
    "        }\n",
    "        events_list.append(events)\n",
    "    return  events_list\n",
    "#events_data(response)"
   ]
  },
  {
   "cell_type": "code",
   "execution_count": 30,
   "id": "83c8b23d",
   "metadata": {},
   "outputs": [],
   "source": [
    "def series_data(response):\n",
    "    series_list = []\n",
    "\n",
    "    for x in response['results']:\n",
    "        series = {\n",
    "            'id': x['id'],\n",
    "            'title': x['title'],\n",
    "            'description': x['description'],\n",
    "            'modified_date': x['modified'],\n",
    "            #'start_year' : x['originalIssue'],\n",
    "            'end_year': x['endYear'],\n",
    "            'rating' : x['rating']\n",
    "        }\n",
    "        series_list.append(series)\n",
    "    return  series_list\n",
    "#series_data(response)"
   ]
  },
  {
   "cell_type": "code",
   "execution_count": null,
   "id": "8365716c",
   "metadata": {},
   "outputs": [],
   "source": [
    "def stories_data(response):\n",
    "    stories_list = []\n",
    "\n",
    "    for x in response['results']:\n",
    "        stories = {\n",
    "            'id': x['id'],\n",
    "            'title': x['title'],\n",
    "            'description': x['description'],\n",
    "            'modified_date': x['modified'],\n",
    "            'original_issue' : x['originalIssue']['name']\n",
    "        }\n",
    "        stories_list.append(stories)\n",
    "    return  stories_list\n",
    "stories_data(response)"
   ]
  }
 ],
 "metadata": {
  "kernelspec": {
   "display_name": "Python 3 (ipykernel)",
   "language": "python",
   "name": "python3"
  },
  "language_info": {
   "codemirror_mode": {
    "name": "ipython",
    "version": 3
   },
   "file_extension": ".py",
   "mimetype": "text/x-python",
   "name": "python",
   "nbconvert_exporter": "python",
   "pygments_lexer": "ipython3",
   "version": "3.9.12"
  }
 },
 "nbformat": 4,
 "nbformat_minor": 5
}
