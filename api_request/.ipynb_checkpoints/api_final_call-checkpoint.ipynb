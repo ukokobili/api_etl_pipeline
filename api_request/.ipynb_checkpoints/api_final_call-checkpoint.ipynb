{
 "cells": [
  {
   "cell_type": "code",
   "execution_count": 9,
   "id": "aea5e57f",
   "metadata": {},
   "outputs": [],
   "source": [
    "# import request library: for making request to the API\n",
    "import requests as rq\n",
    "import pprint as pp\n",
    "import pandas as pd\n",
    "import hashlib # working of MD5 (byte - byte)"
   ]
  },
  {
   "cell_type": "code",
   "execution_count": 10,
   "id": "c674f52d",
   "metadata": {},
   "outputs": [],
   "source": [
    "api_key = ''\n",
    "private_key = ''"
   ]
  },
  {
   "cell_type": "code",
   "execution_count": 11,
   "id": "f9623781",
   "metadata": {},
   "outputs": [],
   "source": [
    "ts = '4000'"
   ]
  },
  {
   "cell_type": "code",
   "execution_count": 12,
   "id": "e4f139c9",
   "metadata": {},
   "outputs": [],
   "source": [
    "# http://gateway.marvel.com/v1/public/comics?ts=1&apikey=1234&hash=ffd275c5130566a2916217b101f26150 \n",
    "# (the hash value is the md5 digest of 1abcd1234)\n",
    "baseurl = 'http://gateway.marvel.com'"
   ]
  },
  {
   "cell_type": "code",
   "execution_count": 13,
   "id": "2752f9ca",
   "metadata": {},
   "outputs": [
    {
     "data": {
      "text/plain": [
       "'9fb8b8c63c495f3a22e47a8ccd52aabc'"
      ]
     },
     "execution_count": 13,
     "metadata": {},
     "output_type": "execute_result"
    }
   ],
   "source": [
    "# https://www.pythonpool.com/python-md5/\n",
    "result = hashlib.md5((ts+private_key+api_key).encode()) \n",
    "hash_key = result.hexdigest() \n",
    "hash_key"
   ]
  },
  {
   "cell_type": "code",
   "execution_count": 14,
   "id": "2b7c4129",
   "metadata": {},
   "outputs": [],
   "source": [
    "ids = 1011334, 1017100, 1009144, 1010699, 1009146, 1016823, 1009148, 1009149, 1010903, 1011266, 1010354, 1010846, 1017851, 1012717, 1011297, 1011031, 1009150, 1011198, 1011175, 1011136"
   ]
  },
  {
   "cell_type": "code",
   "execution_count": 15,
   "id": "8f8bd601",
   "metadata": {},
   "outputs": [],
   "source": [
    "endpoint ='/v1/public/characters'\n",
    "b = '/series'"
   ]
  },
  {
   "cell_type": "code",
   "execution_count": 16,
   "id": "a98e0686",
   "metadata": {},
   "outputs": [],
   "source": [
    "def get_request():\n",
    "    main = []\n",
    "    for a in ids:\n",
    "        r = rq.get(f'{baseurl}{endpoint}/{a}{b}?ts={ts}&apikey={api_key}&hash={hash_key}')\n",
    "        data = r.json()\n",
    "        main.append(data)\n",
    "    return main"
   ]
  },
  {
   "cell_type": "code",
   "execution_count": 17,
   "id": "a0fd485e",
   "metadata": {},
   "outputs": [],
   "source": [
    "def get_stories():\n",
    "    stories = []\n",
    "    for response in get_request():\n",
    "        results = response['data']['results']\n",
    "        \n",
    "       \n",
    "        for details in results:\n",
    "            story = {\n",
    "                'id': details['id'],\n",
    "                'title': details['title'],\n",
    "                'description': details['description'],\n",
    "                'modified_date': details['modified'],\n",
    "                'type': details['type'],\n",
    "                'character_id': details['characters']['items'][0]['resourceURI'].replace('/',' ').split()[-1],\n",
    "                'comics_id': details['comics']['items'][0]['resourceURI'].replace('/',' ').split()[-1]\n",
    "            }\n",
    "            stories.append(story)              \n",
    "    return pd.DataFrame(stories)\n"
   ]
  },
  {
   "cell_type": "code",
   "execution_count": 21,
   "id": "7a769eeb",
   "metadata": {},
   "outputs": [],
   "source": [
    "def get_events():\n",
    "    events = []\n",
    "    for response in get_request():\n",
    "        results = response['data']['results']\n",
    "        \n",
    "       \n",
    "        for details in results:\n",
    "            event = {\n",
    "                'id': details['id'],\n",
    "                'title': details['title'],\n",
    "                'description': details['description'],\n",
    "                'modified_date': details['modified'],\n",
    "                'started': details['start'],\n",
    "                'ended': details['end'],\n",
    "                'character_id': details['characters']['items'][0]['resourceURI'].replace('/',' ').split()[-1],\n",
    "                'creators_id': details['creators']['items'][0]['resourceURI'].replace('/',' ').split()[-1],\n",
    "                'creators': details['creators']['items'][0]['name'],\n",
    "                'creators_role': details['creators']['items'][0]['role'],\n",
    "                'comics_id': details['comics']['items'][0]['resourceURI'].replace('/',' ').split()[-1],\n",
    "            }\n",
    "            events.append(event)              \n",
    "    return pd.DataFrame(events)"
   ]
  },
  {
   "cell_type": "code",
   "execution_count": 2,
   "id": "b762dc2e",
   "metadata": {},
   "outputs": [],
   "source": [
    "def get_comics():\n",
    "    comics = []\n",
    "    for response in get_request():\n",
    "        results = response['data']['results']\n",
    "        \n",
    "       \n",
    "        for details in results:\n",
    "            comic = {\n",
    "                'id': details['id'],\n",
    "                'title': details['title'],\n",
    "                'description': details['description'],\n",
    "                'modified_date': details['modified'],\n",
    "                'number_of_pages': details['pageCount'],\n",
    "                'print_price': details['prices'][0]['price'],\n",
    "                'digital_purchase_price': details['prices'][-1]['price'],\n",
    "                'character_id': details['characters']['items'][0]['resourceURI'].replace('/',' ').split()[-1],\n",
    "                'creators_id': details['creators']['items'][0]['resourceURI'].replace('/',' ').split()[-1]\n",
    "            }\n",
    "            comics.append(comic)              \n",
    "    return pd.DataFrame(comics)\n",
    "#get_comics()"
   ]
  },
  {
   "cell_type": "code",
   "execution_count": null,
   "id": "eb65ab81",
   "metadata": {},
   "outputs": [],
   "source": [
    "def get_character():       \n",
    "    characters = []\n",
    "    for response in main:\n",
    "        results = response['data']['results']\n",
    "        \n",
    "        #xter_list = []\n",
    "        for details in results:\n",
    "            xter = {\n",
    "                'id': details['id'],\n",
    "                'name': details['name'],\n",
    "                'description': details['description'],\n",
    "                'modified_date': details['modified']\n",
    "            }\n",
    "            characters.append(xter)\n",
    "    return pd.DataFrame(characters)"
   ]
  },
  {
   "cell_type": "code",
   "execution_count": 29,
   "id": "2ad1fb82",
   "metadata": {},
   "outputs": [],
   "source": [
    "def get_series():\n",
    "    series = []\n",
    "    for response in get_request():\n",
    "        results = response['data']['results']\n",
    "        \n",
    "        for details in results:\n",
    "            series_ = {\n",
    "                'id': details['id'],\n",
    "                'title': details['title'],\n",
    "                'description': details['description'],\n",
    "                'modified_date': details['modified'],\n",
    "                'start_year': details['startYear'],\n",
    "                'end_year': details['endYear'],\n",
    "                'rating': details['rating'],\n",
    "                'type': details['type'],\n",
    "                'character_id': details['characters']['items'][0]['resourceURI'].replace('/',' ').split()[-1]\n",
    "            }\n",
    "            series.append(series_)              \n",
    "    return pd.DataFrame(series)\n",
    "#get_series()"
   ]
  },
  {
   "cell_type": "code",
   "execution_count": null,
   "id": "32c6e13c",
   "metadata": {},
   "outputs": [],
   "source": []
  }
 ],
 "metadata": {
  "kernelspec": {
   "display_name": "Python 3 (ipykernel)",
   "language": "python",
   "name": "python3"
  },
  "language_info": {
   "codemirror_mode": {
    "name": "ipython",
    "version": 3
   },
   "file_extension": ".py",
   "mimetype": "text/x-python",
   "name": "python",
   "nbconvert_exporter": "python",
   "pygments_lexer": "ipython3",
   "version": "3.9.12"
  },
  "vscode": {
   "interpreter": {
    "hash": "a8a63ec78ea32c84482fe7970610cc43c3245c95e9ce1a466286d0918513297a"
   }
  }
 },
 "nbformat": 4,
 "nbformat_minor": 5
}
